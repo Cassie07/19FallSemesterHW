{
 "cells": [
  {
   "cell_type": "code",
   "execution_count": 4,
   "metadata": {},
   "outputs": [
    {
     "name": "stdout",
     "output_type": "stream",
     "text": [
      "Enter the list of numbers: 1 -4 3 4 -2 6\n",
      "The maximum subarray starts at index 2, ends at index 5 and has sum 11.0.\n"
     ]
    }
   ],
   "source": [
    "def find_max_subarray(alist, start, end):\n",
    "    \"\"\"Returns (l, r, m) such that alist[l:r] is the maximum subarray in\n",
    "    A[start:end] with sum m. Here A[start:end] means all A[x] for start <= x <\n",
    "    end.\"\"\"\n",
    "    # base case\n",
    "    if start == end - 1:\n",
    "        return start, end, alist[start]\n",
    "    else:\n",
    "        mid = (start + end)//2\n",
    "        left_start, left_end, left_max = find_max_subarray(alist, start, mid)\n",
    "        right_start, right_end, right_max = find_max_subarray(alist, mid, end)\n",
    "        cross_start, cross_end, cross_max = find_max_crossing_subarray(alist, start, mid, end)\n",
    "        if (left_max > right_max and left_max > cross_max):\n",
    "            return left_start, left_end, left_max\n",
    "        elif (right_max > left_max and right_max > cross_max):\n",
    "            return right_start, right_end, right_max\n",
    "        else:\n",
    "            return cross_start, cross_end, cross_max\n",
    "\n",
    "def find_max_crossing_subarray(alist, start, mid, end):\n",
    "    \"\"\"Returns (l, r, m) such that alist[l:r] is the maximum subarray within\n",
    "    alist with start <= l < mid <= r < end with sum m. The arguments start, mid,\n",
    "    end must satisfy start <= mid <= end.\"\"\"\n",
    "    sum_left = float('-inf')\n",
    "    sum_temp = 0\n",
    "    cross_start = mid\n",
    "    for i in range(mid - 1, start - 1, -1):\n",
    "        sum_temp = sum_temp + alist[i]\n",
    "        if sum_temp > sum_left:\n",
    "            sum_left = sum_temp\n",
    "            cross_start = i\n",
    " \n",
    "    sum_right = float('-inf')\n",
    "    sum_temp = 0\n",
    "    cross_end = mid + 1\n",
    "    for i in range(mid, end):\n",
    "        sum_temp = sum_temp + alist[i]\n",
    "        if sum_temp > sum_right:\n",
    "            sum_right = sum_temp\n",
    "            cross_end = i + 1\n",
    "    return cross_start, cross_end, sum_left + sum_right\n",
    " \n",
    "alist = input('Enter the list of numbers: ')\n",
    "alist = alist.split()\n",
    "alist = [float(x) for x in alist]\n",
    "start, end, maximum = find_max_subarray(alist, 0, len(alist))\n",
    "print('The maximum subarray starts at index {}, ends at index {}'\n",
    "      ' and has sum {}.'.format(start, end - 1, maximum))"
   ]
  },
  {
   "cell_type": "code",
   "execution_count": 13,
   "metadata": {},
   "outputs": [
    {
     "name": "stdout",
     "output_type": "stream",
     "text": [
      "Enter the list of numbers: 1.24 0.56\n",
      "The maximum subarray starts at index 0, ends at index 1 and has sum 1.8.\n"
     ]
    }
   ],
   "source": [
    "def find_max_subarray(alist, start, end):\n",
    "    \"\"\"Returns (l, r, m) such that alist[l:r] is the maximum subarray in\n",
    "    A[start:end] with sum m. Here A[start:end] means all A[x] for start <= x <\n",
    "    end.\"\"\"\n",
    "    max_ending_at_i = max_seen_so_far = alist[start]\n",
    "    max_left_at_i = max_left_so_far = start\n",
    "    # max_right_at_i is always i + 1\n",
    "    max_right_so_far = start + 1\n",
    "    for i in range(start + 1, end):\n",
    "        if max_ending_at_i > 0:\n",
    "            max_ending_at_i += alist[i]\n",
    "        else:\n",
    "            max_ending_at_i = alist[i]\n",
    "            max_left_at_i = i\n",
    "        if max_ending_at_i > max_seen_so_far:\n",
    "            max_seen_so_far = max_ending_at_i\n",
    "            max_left_so_far = max_left_at_i\n",
    "            max_right_so_far = i + 1\n",
    "    return max_left_so_far, max_right_so_far, max_seen_so_far\n",
    " \n",
    " \n",
    "alist = input('Enter the list of numbers: ')\n",
    "alist = alist.split()\n",
    "alist = [float(x) for x in alist]\n",
    "start, end, maximum = find_max_subarray(alist, 0, len(alist))\n",
    "print('The maximum subarray starts at index {}, ends at index {}'\n",
    "      ' and has sum {}.'.format(start, end - 1, maximum))"
   ]
  },
  {
   "cell_type": "code",
   "execution_count": 15,
   "metadata": {},
   "outputs": [
    {
     "name": "stdout",
     "output_type": "stream",
     "text": [
      "[0, 1, 2, 3, 4]\n",
      "[0, 1, 2, 3, 4]\n"
     ]
    }
   ],
   "source": [
    "list1 = [i for i in range(0,5)]\n",
    "list2 = [i for i in range(5)]\n",
    "print(list1)\n",
    "print(list2)"
   ]
  },
  {
   "cell_type": "code",
   "execution_count": null,
   "metadata": {},
   "outputs": [],
   "source": []
  }
 ],
 "metadata": {
  "kernelspec": {
   "display_name": "Python 3",
   "language": "python",
   "name": "python3"
  },
  "language_info": {
   "codemirror_mode": {
    "name": "ipython",
    "version": 3
   },
   "file_extension": ".py",
   "mimetype": "text/x-python",
   "name": "python",
   "nbconvert_exporter": "python",
   "pygments_lexer": "ipython3",
   "version": "3.6.8"
  }
 },
 "nbformat": 4,
 "nbformat_minor": 2
}
